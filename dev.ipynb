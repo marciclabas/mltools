{
 "cells": [
  {
   "cell_type": "code",
   "execution_count": 11,
   "metadata": {},
   "outputs": [],
   "source": [
    "import keras\n",
    "from keras import ops\n",
    "import tensorflow as tf"
   ]
  },
  {
   "cell_type": "code",
   "execution_count": 22,
   "metadata": {},
   "outputs": [],
   "source": [
    "class MetricEveryN(keras.metrics.Metric):\n",
    "  \"\"\"A metric that only runs every `n` batches\"\"\"\n",
    "  def __init__(self, metric_fn, name='custom_metric', n=10, **kwargs):\n",
    "    super().__init__(name=name, **kwargs)\n",
    "    self.metric_fn = metric_fn\n",
    "    self.n = n\n",
    "    self.total = self.add_weight(name='total', initializer='zeros')\n",
    "    self.count = self.add_weight(name='count', initializer='zeros')\n",
    "    self.batch_counter = self.add_weight(name='batch_counter', initializer='zeros')\n",
    "\n",
    "  def update_state(self, y_true, y_pred, sample_weight=None):\n",
    "    self.batch_counter.assign_add(1)\n",
    "\n",
    "    # Only compute the metric every N batches\n",
    "    result = ops.cond(\n",
    "      ops.equal(self.batch_counter % self.n, 0),\n",
    "      lambda: ops.mean(self.metric_fn(y_true, y_pred)),\n",
    "      lambda: 0.0\n",
    "    )\n",
    "    count = ops.cond(\n",
    "      ops.equal(self.batch_counter % self.n, 0),\n",
    "      lambda: 1, lambda: 0\n",
    "    )\n",
    "    self.total.assign_add(result)\n",
    "    self.count.assign_add(count)\n",
    "\n",
    "  def result(self):\n",
    "    return ops.cond(\n",
    "      ops.equal(self.count, 0),\n",
    "      lambda: 0.0,\n",
    "      lambda: self.total / self.count\n",
    "    )\n",
    "\n",
    "  def reset_states(self):\n",
    "    self.total.assign(0.0)\n",
    "    self.count.assign(0.0)\n",
    "    self.batch_counter.assign(0.0)\n"
   ]
  },
  {
   "cell_type": "code",
   "execution_count": 23,
   "metadata": {},
   "outputs": [
    {
     "name": "stdout",
     "output_type": "stream",
     "text": [
      "\u001b[1m 1/25\u001b[0m \u001b[37m━━━━━━━━━━━━━━━━━━━━\u001b[0m \u001b[1m7s\u001b[0m 302ms/step - custom_metric: 0.0000e+00 - loss: 52.7875Running\n",
      "Running\n",
      "\u001b[1m25/25\u001b[0m \u001b[32m━━━━━━━━━━━━━━━━━━━━\u001b[0m\u001b[37m\u001b[0m \u001b[1m0s\u001b[0m 2ms/step - custom_metric: 18444.0801 - loss: 14810.4609\n"
     ]
    },
    {
     "data": {
      "text/plain": [
       "<keras.src.callbacks.history.History at 0x7f2a281b3e50>"
      ]
     },
     "execution_count": 23,
     "metadata": {},
     "output_type": "execute_result"
    }
   ],
   "source": [
    "@tf.function\n",
    "def metric(a, b):\n",
    "  tf.print('Running')\n",
    "  return keras.metrics.mean_squared_error(a, b)\n",
    "\n",
    "model = keras.Sequential([\n",
    "  keras.layers.Input(shape=(1,)),\n",
    "  keras.layers.Dense(1)\n",
    "])\n",
    "model.compile(\n",
    "  loss=keras.losses.MeanSquaredError(),\n",
    "  optimizer=keras.optimizers.SGD(1e-12),\n",
    "  metrics=[MetricEveryN(metric, n=10)]\n",
    ")\n",
    "\n",
    "X = tf.range(100, dtype=tf.float32)\n",
    "Y = 2 * X + 1\n",
    "ds = tf.data.Dataset.from_tensor_slices((X, Y)).batch(4)\n",
    "\n",
    "model.fit(ds)\n",
    "# for x, y in ds:\n",
    "#   z = model(x, training=True)\n",
    "#   l = model.loss(y, z)\n",
    "#   print(l)"
   ]
  },
  {
   "cell_type": "code",
   "execution_count": null,
   "metadata": {},
   "outputs": [
    {
     "name": "stdout",
     "output_type": "stream",
     "text": [
      "tf.Tensor(nan, shape=(), dtype=float32)\n"
     ]
    }
   ],
   "source": [
    "for x, y in ds:\n",
    "  z = model(x, training=True)\n",
    "  l = model.loss(y, z)\n",
    "  print(l)\n",
    "  break"
   ]
  }
 ],
 "metadata": {
  "kernelspec": {
   "display_name": ".venv",
   "language": "python",
   "name": "python3"
  },
  "language_info": {
   "codemirror_mode": {
    "name": "ipython",
    "version": 3
   },
   "file_extension": ".py",
   "mimetype": "text/x-python",
   "name": "python",
   "nbconvert_exporter": "python",
   "pygments_lexer": "ipython3",
   "version": "3.11.6"
  }
 },
 "nbformat": 4,
 "nbformat_minor": 2
}
