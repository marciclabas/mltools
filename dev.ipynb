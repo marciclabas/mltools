{
 "cells": [
  {
   "cell_type": "code",
   "execution_count": 2,
   "metadata": {},
   "outputs": [
    {
     "name": "stderr",
     "output_type": "stream",
     "text": [
      "2024-06-10 20:40:33.946596: I external/local_tsl/tsl/cuda/cudart_stub.cc:32] Could not find cuda drivers on your machine, GPU will not be used.\n",
      "2024-06-10 20:40:34.231145: I external/local_tsl/tsl/cuda/cudart_stub.cc:32] Could not find cuda drivers on your machine, GPU will not be used.\n",
      "2024-06-10 20:40:35.140705: I tensorflow/core/platform/cpu_feature_guard.cc:210] This TensorFlow binary is optimized to use available CPU instructions in performance-critical operations.\n",
      "To enable the following instructions: AVX2 FMA, in other operations, rebuild TensorFlow with the appropriate compiler flags.\n",
      "2024-06-10 20:40:37.502940: W tensorflow/compiler/tf2tensorrt/utils/py_utils.cc:38] TF-TRT Warning: Could not find TensorRT\n"
     ]
    }
   ],
   "source": [
    "import keras\n",
    "import tensorflow as tf"
   ]
  },
  {
   "cell_type": "code",
   "execution_count": 7,
   "metadata": {},
   "outputs": [],
   "source": [
    "class MetricEveryN(keras.metrics.Metric):\n",
    "  \"\"\"A metric that only runs every `n` batches\"\"\"\n",
    "  def __init__(self, metric_fn, name='custom_metric', n=10, **kwargs):\n",
    "    super().__init__(name=name, **kwargs)\n",
    "    self.metric_fn = metric_fn\n",
    "    self.n = n\n",
    "    self.total = self.add_weight(name='total', initializer='zeros')\n",
    "    self.count = self.add_weight(name='count', initializer='zeros')\n",
    "    self.batch_counter = self.add_weight(name='batch_counter', initializer='zeros')\n",
    "\n",
    "  @tf.function\n",
    "  def update_state(self, y_true, y_pred, sample_weight=None):\n",
    "    self.batch_counter.assign_add(1)\n",
    "\n",
    "    # Only compute the metric every N batches\n",
    "    if tf.equal(self.batch_counter % self.n, 0):\n",
    "      tf.print('Computing')\n",
    "      result = tf.reduce_mean(self.metric_fn(y_true, y_pred))\n",
    "      self.total.assign_add(result)\n",
    "      self.count.assign_add(1)\n",
    "\n",
    "  def result(self):\n",
    "    return tf.cond(\n",
    "      tf.equal(self.count, 0),\n",
    "      lambda: tf.constant(0.0),\n",
    "      lambda: self.total / self.count\n",
    "    )\n",
    "\n",
    "  def reset_states(self):\n",
    "    self.total.assign(0.0)\n",
    "    self.count.assign(0.0)\n",
    "    self.batch_counter.assign(0.0)\n"
   ]
  },
  {
   "cell_type": "code",
   "execution_count": 9,
   "metadata": {},
   "outputs": [
    {
     "name": "stdout",
     "output_type": "stream",
     "text": [
      "\u001b[1m 1/25\u001b[0m \u001b[37m━━━━━━━━━━━━━━━━━━━━\u001b[0m \u001b[1m9s\u001b[0m 383ms/step - custom_metric: 0.0000e+00 - loss: 20.9366Computing\n",
      "\u001b[1m15/25\u001b[0m \u001b[32m━━━━━━━━━━━━\u001b[0m\u001b[37m━━━━━━━━\u001b[0m \u001b[1m0s\u001b[0m 4ms/step - custom_metric: 2303.8926 - loss: 1756.7682 Computing\n",
      "\u001b[1m25/25\u001b[0m \u001b[32m━━━━━━━━━━━━━━━━━━━━\u001b[0m\u001b[37m\u001b[0m \u001b[1m0s\u001b[0m 4ms/step - custom_metric: 6255.1650 - loss: 5027.2100\n"
     ]
    },
    {
     "data": {
      "text/plain": [
       "<keras.src.callbacks.history.History at 0x7f2ab4500f10>"
      ]
     },
     "execution_count": 9,
     "metadata": {},
     "output_type": "execute_result"
    }
   ],
   "source": [
    "model = keras.Sequential([\n",
    "  keras.layers.Input(shape=(1,)),\n",
    "  keras.layers.Dense(1)\n",
    "])\n",
    "model.compile(\n",
    "  loss=keras.losses.MeanSquaredError(),\n",
    "  optimizer=keras.optimizers.SGD(1e-12),\n",
    "  metrics=[MetricEveryN(keras.metrics.mean_squared_error, n=10)]\n",
    ")\n",
    "\n",
    "X = tf.range(100, dtype=tf.float32)\n",
    "Y = 2 * X + 1\n",
    "ds = tf.data.Dataset.from_tensor_slices((X, Y)).batch(4)\n",
    "\n",
    "model.fit(ds)\n",
    "# for x, y in ds:\n",
    "#   z = model(x, training=True)\n",
    "#   l = model.loss(y, z)\n",
    "#   print(l)"
   ]
  },
  {
   "cell_type": "code",
   "execution_count": null,
   "metadata": {},
   "outputs": [
    {
     "name": "stdout",
     "output_type": "stream",
     "text": [
      "tf.Tensor(nan, shape=(), dtype=float32)\n"
     ]
    }
   ],
   "source": [
    "for x, y in ds:\n",
    "  z = model(x, training=True)\n",
    "  l = model.loss(y, z)\n",
    "  print(l)\n",
    "  break"
   ]
  }
 ],
 "metadata": {
  "kernelspec": {
   "display_name": ".venv",
   "language": "python",
   "name": "python3"
  },
  "language_info": {
   "codemirror_mode": {
    "name": "ipython",
    "version": 3
   },
   "file_extension": ".py",
   "mimetype": "text/x-python",
   "name": "python",
   "nbconvert_exporter": "python",
   "pygments_lexer": "ipython3",
   "version": "3.11.6"
  }
 },
 "nbformat": 4,
 "nbformat_minor": 2
}
